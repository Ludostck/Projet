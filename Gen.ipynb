
def build_generator(start_size, channels=3, base_depth=64, noise_dim=100):
      model = Sequential()
      model.add(Dense(base_depth * 8 * start_size * start_size, input_shape=(noise_dim,)))
      model.add(Reshape((start_size, start_size, base_depth * 8)))
      model.add(BatchNormalization())
      model.add(LeakyReLU(alpha=0.2))

      model.add(Conv2DTranspose(base_depth * 4, (4, 4), strides=(2, 2), padding='same'))
      model.add(BatchNormalization())
      model.add(LeakyReLU(alpha=0.2))

      model.add(Conv2DTranspose(base_depth * 2, (4, 4), strides=(2, 2), padding='same'))
      model.add(BatchNormalization())
      model.add(LeakyReLU(alpha=0.2))

      model.add(Conv2DTranspose(base_depth, (4, 4), strides=(2, 2), padding='same'))
      model.add(BatchNormalization())
      model.add(LeakyReLU(alpha=0.2))

      # Assurez-vous que cette dernière couche produit des images de taille (128, 128, 3)
      model.add(Conv2DTranspose(channels, (4, 4), strides=(2, 2), padding='same', activation='tanh'))
      return model

print("base_depth :",BASE_DEPTH)
print("Noise_dim :",noise_dim)
print("Start_size :",start_size)
generator = build_generator(start_size, base_depth=BASE_DEPTH, noise_dim=noise_dim)
generator.summary()

base_depth : 64
Noise_dim : 100
Start_size : 16
Model: "sequential_26"
_________________________________________________________________
 Layer (type)                Output Shape              Param #   
=================================================================
 dense_26 (Dense)            (None, 131072)            13238272  
                                                                 
 reshape_16 (Reshape)        (None, 16, 16, 512)       0         
                                                                 
 batch_normalization_57 (Ba  (None, 16, 16, 512)       2048      
 tchNormalization)                                               
                                                                 
 leaky_re_lu_97 (LeakyReLU)  (None, 16, 16, 512)       0         
                                                                 
 conv2d_transpose_57 (Conv2  (None, 32, 32, 256)       2097408   
 DTranspose)                                                     
                                                                 
 batch_normalization_58 (Ba  (None, 32, 32, 256)       1024      
 tchNormalization)                                               
                                                                 
 leaky_re_lu_98 (LeakyReLU)  (None, 32, 32, 256)       0         
                                                                 
 conv2d_transpose_58 (Conv2  (None, 64, 64, 128)       524416    
 DTranspose)                                                     
                                                                 
 batch_normalization_59 (Ba  (None, 64, 64, 128)       512       
 tchNormalization)                                               
                                                                 
 leaky_re_lu_99 (LeakyReLU)  (None, 64, 64, 128)       0         
                                                                 
 conv2d_transpose_59 (Conv2  (None, 128, 128, 64)      131136    
 DTranspose)                                                     
                                                                 
 batch_normalization_60 (Ba  (None, 128, 128, 64)      256       
 tchNormalization)                                               
                                                                 
 leaky_re_lu_100 (LeakyReLU  (None, 128, 128, 64)      0         
 )                                                               
                                                                 
 conv2d_transpose_60 (Conv2  (None, 256, 256, 3)       3075      
 DTranspose)                                                     
                                                                 
=================================================================
Total params: 15998147 (61.03 MB)
Trainable params: 15996227 (61.02 MB)
Non-trainable params: 1920 (7.50 KB)
_________________________________________________________________